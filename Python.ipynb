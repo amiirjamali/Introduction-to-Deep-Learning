{
 "cells": [
  {
   "cell_type": "markdown",
   "metadata": {
    "slideshow": {
     "slide_type": "slide"
    }
   },
   "source": [
    "![py0](./images/py0.png)"
   ]
  },
  {
   "cell_type": "markdown",
   "metadata": {
    "slideshow": {
     "slide_type": "slide"
    }
   },
   "source": [
    "![py15](./images/py15.png)"
   ]
  },
  {
   "cell_type": "markdown",
   "metadata": {
    "slideshow": {
     "slide_type": "slide"
    }
   },
   "source": [
    "![py16](./images/py16.png)"
   ]
  },
  {
   "cell_type": "markdown",
   "metadata": {
    "slideshow": {
     "slide_type": "slide"
    }
   },
   "source": [
    "![py1](./images/py1.png)"
   ]
  },
  {
   "cell_type": "markdown",
   "metadata": {
    "slideshow": {
     "slide_type": "slide"
    }
   },
   "source": [
    "\n",
    "- **تعریف متغیرها**  \n",
    "  نحوه‌ی اختصاص دادن مقادیر عددی به نام‌های دلخواه.\n",
    "\n",
    "- **عملگرهای عددی**  \n",
    "  جمع، تفریق، ضرب، تقسیم اعشاری و تقسیم صحیح (با حذف باقیمانده)، و عملیات توان.\n",
    "\n",
    "- **تبدیل نوع (Type Casting)**  \n",
    "  تبدیل عدد صحیح به عدد اعشاری برای دریافت نتیجه‌ی دقیق‌تر در تقسیم.\n",
    "\n",
    "- **چسباندن رشته‌ها**  \n",
    "  تبدیل عدد به متن و کنار هم قرار دادن متن‌ها برای نمایش ترکیبی از عدد و نوشته.\n"
   ]
  },
  {
   "cell_type": "code",
   "execution_count": 1,
   "metadata": {
    "slideshow": {
     "slide_type": "slide"
    }
   },
   "outputs": [
    {
     "name": "stdout",
     "output_type": "stream",
     "text": [
      "مساحت دایره با شعاع 5 برابر است با 78.54\n"
     ]
    }
   ],
   "source": [
    "import math\n",
    "\n",
    "r = 5\n",
    "area = math.pi * r ** 2  \n",
    "print(f\"مساحت دایره با شعاع {r} برابر است با {area:.2f}\")\n",
    "\n"
   ]
  },
  {
   "cell_type": "code",
   "execution_count": 4,
   "metadata": {},
   "outputs": [
    {
     "name": "stdout",
     "output_type": "stream",
     "text": [
      "مبلغ به دلار: 23.81\n"
     ]
    }
   ],
   "source": [
    "toman = 1000000\n",
    "exchange_rate = 42000    \n",
    "dollar = toman / exchange_rate    \n",
    "print(\"مبلغ به دلار:\", round(dollar, 2))"
   ]
  },
  {
   "cell_type": "markdown",
   "metadata": {
    "slideshow": {
     "slide_type": "slide"
    }
   },
   "source": [
    "![py2](./images/py2.png)"
   ]
  },
  {
   "cell_type": "markdown",
   "metadata": {
    "slideshow": {
     "slide_type": "slide"
    }
   },
   "source": [
    "![py3](./images/py3.png)"
   ]
  },
  {
   "cell_type": "markdown",
   "metadata": {
    "slideshow": {
     "slide_type": "slide"
    }
   },
   "source": [
    "- **True / False**  \n",
    "  مقادیر بولی که نتیجه‌ی مقایسه‌ها و شرط‌ها را نشان می‌دهند.\n",
    "\n",
    "- **None**  \n",
    "  مقدار خاصی که نشان‌دهنده‌ی «عدم وجود داده» یا «خالی بودن» است؛  \n",
    "  می‌توان به متغیر نسبت داد، در لیست قرار داد یا به‌عنوان نتیجه‌ی یک تابع بازگرداند.\n",
    "  \n"
   ]
  },
  {
   "cell_type": "markdown",
   "metadata": {
    "slideshow": {
     "slide_type": "slide"
    }
   },
   "source": [
    "**and, or, not**\n",
    "\n",
    "- **and**  \n",
    "  استفاده وقتی چند شرط هم‌زمان باید برقرار باشند.\n",
    "\n",
    "- **or**  \n",
    "  استفاده وقتی تنها یکی از چند شرط نیاز است برقرار باشد.\n",
    "\n",
    "- **not**  \n",
    "  برای معکوس کردن نتیجه‌ی یک شرط.\n",
    "\n",
    "- **مقایسه‌ها**  \n",
    "  `==` و `!=` و `<` و `>` و `<=` و `>=` برای مقایسه‌ی دو مقدار و بازگرداندن True/False.\n",
    "\n",
    "- **کوتاه‌سازی (Short-circuit Evaluation)**  \n",
    "  توضیح این‌که در `and` و `or` ممکن است بعضی شروط اصلاً ارزیابی نشوند تا کارایی بهبود یابد."
   ]
  },
  {
   "cell_type": "code",
   "execution_count": 33,
   "metadata": {
    "slideshow": {
     "slide_type": "slide"
    }
   },
   "outputs": [
    {
     "name": "stdout",
     "output_type": "stream",
     "text": [
      "سن باید بین ۱۸ تا ۹۹ باشد.\n"
     ]
    }
   ],
   "source": [
    "# مثال ۱: اعتبارسنجی عدد\n",
    "age = 100\n",
    "if age >= 18 and age <= 99:\n",
    "    print(\"سن معتبر است.\")\n",
    "else:\n",
    "    print(\"سن باید بین ۱۸ تا ۹۹ باشد.\")\n",
    "\n"
   ]
  },
  {
   "cell_type": "code",
   "execution_count": 9,
   "metadata": {},
   "outputs": [
    {
     "name": "stdout",
     "output_type": "stream",
     "text": [
      "ورود مجاز است.\n"
     ]
    }
   ],
   "source": [
    "# مثال ۲: اعتبارسنجی فرم ساده\n",
    "username = \"mohammad\"\n",
    "password = \"123\"\n",
    "if username and password:\n",
    "    print(\"ورود مجاز است.\")\n",
    "else:\n",
    "    print(\"نام کاربری و رمز عبور نمی‌توانند خالی باشند.\")"
   ]
  },
  {
   "cell_type": "markdown",
   "metadata": {
    "slideshow": {
     "slide_type": "slide"
    }
   },
   "source": [
    "![py4](./images/py4.png)"
   ]
  },
  {
   "cell_type": "markdown",
   "metadata": {
    "slideshow": {
     "slide_type": "slide"
    }
   },
   "source": [
    "\n",
    "لیست‌ها ساختارهایی برای نگهداری مجموعه‌ای از آیتم‌ها هستند که می‌توانند تغییر کنند:\n",
    "\n",
    "- **تعریف لیست**  \n",
    "  نگهداری چند مقدار به‌صورت پشت سر هم؛ شامل اعداد، متن یا حتی انواع داده‌ی دیگر.\n",
    "\n",
    "- **قابل تغییر بودن (Mutable)**  \n",
    "  امکان اضافه کردن، حذف یا ویرایش آیتم‌ها پس از ساخت لیست.\n",
    "\n",
    "- **ابعاد و اندازه**  \n",
    "  شمارش تعداد آیتم‌های لیست و بررسی خالی بودن یا نبودن آن.\n",
    "\n",
    "- **عملیات پایه**  \n",
    "  افزودن یک یا چند آیتم به انتهای لیست و ترکیب چند لیست با هم.\n"
   ]
  },
  {
   "cell_type": "code",
   "execution_count": 14,
   "metadata": {
    "slideshow": {
     "slide_type": "slide"
    }
   },
   "outputs": [
    {
     "name": "stdout",
     "output_type": "stream",
     "text": [
      "['علی', 'سارا', 'مینا', 'رضا']\n",
      "['علی', 'مهدی', 'سارا', 'مینا', 'رضا']\n",
      "['علی', 'مهدی', 'مینا', 'رضا']\n",
      "خروجی: رضا\n"
     ]
    }
   ],
   "source": [
    "#  مدیریت لیست دانشجویان\n",
    "students = [\"علی\", \"سارا\", \"مینا\"]\n",
    "students.append(\"رضا\")\n",
    "print(students)           \n",
    "students.insert(1, \"مهدی\")     \n",
    "print(students)\n",
    "students.remove(\"سارا\")\n",
    "print(students)\n",
    "last = students.pop()   \n",
    "print(\"خروجی:\", last)"
   ]
  },
  {
   "cell_type": "code",
   "execution_count": 12,
   "metadata": {},
   "outputs": [
    {
     "name": "stdout",
     "output_type": "stream",
     "text": [
      "میانگین نمرات: 16.8\n"
     ]
    }
   ],
   "source": [
    "#  جمع‌آوری نمرات\n",
    "grades = [18, 20, 15, 12, 19]\n",
    "average = sum(grades) / len(grades)\n",
    "print(f\"میانگین نمرات: {average:.1f}\")"
   ]
  },
  {
   "cell_type": "markdown",
   "metadata": {
    "slideshow": {
     "slide_type": "slide"
    }
   },
   "source": [
    "![py5](./images/py5.png)"
   ]
  },
  {
   "cell_type": "markdown",
   "metadata": {
    "slideshow": {
     "slide_type": "slide"
    }
   },
   "source": [
    "ابزاری قدرتمند برای استخراج زیرمجموعه‌ای از آیتم‌ها بدون تغییر لیست اصلی:\n",
    "\n",
    "- **محدوده (Start:End)**  \n",
    "  مشخص کردن نقطه‌ی آغاز و پایان برای برداشتن یک بخش از لیست.\n",
    "\n",
    "- **اندیس منفی**  \n",
    "  استفاده از شماره‌های منفی برای اشاره به آیتم‌ها از انتهای لیست؛  \n",
    "  مثال: `-1` اشاره به آخرین آیتم دارد.\n",
    "\n",
    "- **گام (Step)**  \n",
    "  تعیین فاصله‌ی بین آیتم‌های برداشته‌شده (مثلاً انتخاب هر دومین یا سومین عنصر).\n",
    "\n",
    "- **پیش‌فرض‌ها**  \n",
    "  وقتی نقطه‌ی آغاز یا پایان مشخص نشده باشد، به‌ترتیب از ابتدا یا تا انتهای لیست ادامه می‌یابد."
   ]
  },
  {
   "cell_type": "code",
   "execution_count": 16,
   "metadata": {
    "slideshow": {
     "slide_type": "slide"
    }
   },
   "outputs": [
    {
     "name": "stdout",
     "output_type": "stream",
     "text": [
      "معکوس: [10, 9, 8, 7, 6, 5, 4, 3, 2, 1]\n"
     ]
    }
   ],
   "source": [
    "numbers = list(range(1, 11))  \n",
    "\n",
    "#  معکوس کردن لیست\n",
    "reversed_nums = numbers[::-1]\n",
    "print(\"معکوس:\", reversed_nums)"
   ]
  },
  {
   "cell_type": "code",
   "execution_count": 17,
   "metadata": {},
   "outputs": [
    {
     "name": "stdout",
     "output_type": "stream",
     "text": [
      "هر دومین: [1, 3, 5, 7, 9]\n"
     ]
    }
   ],
   "source": [
    "# انتخاب هر دومین عنصر\n",
    "every_second = numbers[::2]\n",
    "print(\"هر دومین:\", every_second)"
   ]
  },
  {
   "cell_type": "code",
   "execution_count": 18,
   "metadata": {},
   "outputs": [
    {
     "name": "stdout",
     "output_type": "stream",
     "text": [
      "حذف میانی: [1, 2, 3, 4, 8, 9, 10]\n"
     ]
    }
   ],
   "source": [
    "left = numbers[:4]    \n",
    "right = numbers[7:]  \n",
    "modified = left + right\n",
    "print(\"حذف میانی:\", modified)\n"
   ]
  },
  {
   "cell_type": "markdown",
   "metadata": {
    "slideshow": {
     "slide_type": "slide"
    }
   },
   "source": [
    "![py6](./images/py6.png)"
   ]
  },
  {
   "cell_type": "markdown",
   "metadata": {},
   "source": [
    "- **ماهیت غیرقابل تغییر**  \n",
    "  تاپل مجموعه‌ای از مقادیر است که پس از تعریف نمی‌توان اعضای آن را اضافه، حذف یا ویرایش کرد.\n",
    "\n",
    "- **کاربرد**  \n",
    "  مناسب وقتی می‌خواهیم داده‌ای ثابت بماند و به‌اشتباه تغییر نکند (مثلاً مختصات جغرافیایی یا تنظیمات ثابت).\n",
    "\n",
    "- **نحوه استفاده**  \n",
    "  از پرانتز برای گروه‌بندی مقادیر استفاده می‌شود.\n",
    "\n",
    "- **ویژگی‌ها**  \n",
    "  - امکان اندازه‌گیری طول تاپل  \n",
    "  - دسترسی بر اساس اندیس بدون امکان ویرایش  \n",
    "  - سرعت بالاتر نسبت به لیست به دلیل ساختار ثابت  \n"
   ]
  },
  {
   "cell_type": "markdown",
   "metadata": {
    "slideshow": {
     "slide_type": "slide"
    }
   },
   "source": [
    "![py7](./images/py7.png)"
   ]
  },
  {
   "cell_type": "markdown",
   "metadata": {},
   "source": [
    "\n",
    "- **ساختار کلید–مقدار**  \n",
    "  هر آیتم شامل یک کلید یکتا و یک مقدار متناظر است و می‌توان بر اساس کلید مستقیماً به مقدار دسترسی پیدا کرد.\n",
    "\n",
    "- **کاربرد**  \n",
    "  مناسب برای نگهداری اطلاعاتی که نیاز به جستجو یا نگاشت سریع دارند  \n",
    "  (مانند دفترچه تلفن، فرهنگ‌لغت اصطلاحات، تنظیمات نام‌گذاری).\n",
    "\n",
    "- **ویژگی‌ها**  \n",
    "  - کلیدها باید یکتا باشند (معمولاً رشته یا عدد)  \n",
    "  - مقادیر می‌توانند هر نوع داده‌ای (اعداد، رشته، لیست، دیکشنری دیگر) باشند  \n",
    "  - امکان اضافه کردن، حذف یا ویرایش آیتم‌ها در هر زمان  \n",
    "  - عملیات جستجو و دسترسی بسیار سریع  \n"
   ]
  },
  {
   "cell_type": "code",
   "execution_count": 21,
   "metadata": {
    "slideshow": {
     "slide_type": "slide"
    }
   },
   "outputs": [
    {
     "name": "stdout",
     "output_type": "stream",
     "text": [
      "True\n",
      "False\n",
      "34-23\n"
     ]
    }
   ],
   "source": [
    "# ساخت یک دیکشنری خالی\n",
    "phonebook = {}\n",
    "# یا\n",
    "phonebook = dict()\n",
    "\n",
    "# افزودن داده به دیکشنری\n",
    "phonebook['Zach'] = '12-37'\n",
    "phonebook['Jay'] = '34-23'\n",
    "\n",
    "print('Zach' in phonebook)  # خروجی: True\n",
    "print('Kevin' in phonebook)  # خروجی: False\n",
    "\n",
    "print(phonebook['Jay'])  # خروجی: 34-23\n",
    "\n"
   ]
  },
  {
   "cell_type": "code",
   "execution_count": 22,
   "metadata": {},
   "outputs": [
    {
     "name": "stdout",
     "output_type": "stream",
     "text": [
      "{'Jay': '34-23'}\n"
     ]
    }
   ],
   "source": [
    "\n",
    "# حذف یک داده\n",
    "del phonebook['Zach']\n",
    "print(phonebook)  # خروجی: {'Jay': '34-23'}"
   ]
  },
  {
   "cell_type": "markdown",
   "metadata": {
    "slideshow": {
     "slide_type": "slide"
    }
   },
   "source": [
    "![py8](./images/py8.png)"
   ]
  },
  {
   "cell_type": "markdown",
   "metadata": {},
   "source": [
    "\n",
    "- **هدف**  \n",
    "  اجرای مکرر یک بلوک کد برای هر عضو مجموعه یا در یک بازه عددی، بدون نیاز به تکرار دستی.\n",
    "\n",
    "- **حلقه روی بازه عددی**  \n",
    "  با تعریف محدوده شروع، پایان و گام دلخواه می‌توان عملی را چندین بار اجرا کرد و ساختارهای پیچیده را جایگزین نمود.\n",
    "\n",
    "- **حلقه روی مجموعه‌ها**  \n",
    "  - **لیست**: انجام پردازش روی هر آیتم لیست  \n",
    "  - **تاپل**: مشابه لیست اما بدون امکان تغییر آیتم‌ها  \n",
    "  - **دیکشنری**: تکرار روی کلیدها، روی مقادیر یا روی هر جفت کلید–مقدار  \n",
    "\n",
    "- **مزایا**  \n",
    "  - خوانایی بالا و سینتکس ساده  \n",
    "  - جلوگیری از کپی–پیست کد  \n",
    "  - کاربرد برای شمارش، پردازش داده‌ها و تولید خلاصه‌های مفید  "
   ]
  },
  {
   "cell_type": "code",
   "execution_count": 23,
   "metadata": {
    "slideshow": {
     "slide_type": "slide"
    }
   },
   "outputs": [
    {
     "name": "stdout",
     "output_type": "stream",
     "text": [
      "جمع اعداد 1 تا 5: 15\n"
     ]
    }
   ],
   "source": [
    "total = 0\n",
    "for i in range(1, 6):\n",
    "    total += i\n",
    "print(\"جمع اعداد 1 تا 5:\", total)\n"
   ]
  },
  {
   "cell_type": "markdown",
   "metadata": {
    "slideshow": {
     "slide_type": "slide"
    }
   },
   "source": [
    "![py9](./images/py9.png)"
   ]
  },
  {
   "cell_type": "code",
   "execution_count": 25,
   "metadata": {
    "slideshow": {
     "slide_type": "slide"
    }
   },
   "outputs": [
    {
     "name": "stdout",
     "output_type": "stream",
     "text": [
      "Hi Zach!\n",
      "Hi Jay!\n",
      "Hi Richard!\n"
     ]
    }
   ],
   "source": [
    "names = ['Zach', 'Jay', 'Richard']\n",
    "for name in names:\n",
    "    print('Hi', name + '!')\n"
   ]
  },
  {
   "cell_type": "code",
   "execution_count": 26,
   "metadata": {},
   "outputs": [
    {
     "name": "stdout",
     "output_type": "stream",
     "text": [
      "Jay با حرف J شروع می‌شود.\n"
     ]
    }
   ],
   "source": [
    "for name in names:\n",
    "    if name.startswith('J'):\n",
    "        print(name, \"با حرف J شروع می‌شود.\")\n"
   ]
  },
  {
   "cell_type": "markdown",
   "metadata": {
    "slideshow": {
     "slide_type": "slide"
    }
   },
   "source": [
    "![py10](./images/py10.png)"
   ]
  },
  {
   "cell_type": "code",
   "execution_count": 34,
   "metadata": {
    "slideshow": {
     "slide_type": "slide"
    }
   },
   "outputs": [
    {
     "name": "stdout",
     "output_type": "stream",
     "text": [
      "نام: Zach\n",
      "نام: Jay\n",
      "شماره: 12-37\n",
      "شماره: 34-23\n"
     ]
    }
   ],
   "source": [
    "phonebook = {'Zach': '12-37', 'Jay': '34-23'}\n",
    "\n",
    "for name in phonebook:\n",
    "    print(\"نام:\", name)\n",
    "    \n",
    "for number in phonebook.values():\n",
    "    print(\"شماره:\", number)\n",
    "\n",
    "\n"
   ]
  },
  {
   "cell_type": "code",
   "execution_count": 36,
   "metadata": {},
   "outputs": [
    {
     "name": "stdout",
     "output_type": "stream",
     "text": [
      "Jay پیدا شد! شماره: 34-23\n"
     ]
    }
   ],
   "source": [
    "search_name = 'Jay'\n",
    "for name, number in phonebook.items():\n",
    "    if name == search_name:\n",
    "        print(name, \"پیدا شد! شماره:\", number)\n"
   ]
  },
  {
   "cell_type": "markdown",
   "metadata": {
    "slideshow": {
     "slide_type": "slide"
    }
   },
   "source": [
    "![py11](./images/py11.png)"
   ]
  },
  {
   "cell_type": "markdown",
   "metadata": {
    "slideshow": {
     "slide_type": "slide"
    }
   },
   "source": [
    "![py12](./images/py12.png)"
   ]
  },
  {
   "cell_type": "markdown",
   "metadata": {
    "slideshow": {
     "slide_type": "slide"
    }
   },
   "source": [
    "![py13](./images/py13.png)"
   ]
  },
  {
   "cell_type": "markdown",
   "metadata": {
    "slideshow": {
     "slide_type": "slide"
    }
   },
   "source": [
    "مراحل پایه:\n",
    "\n",
    "    import pandas as pd\n",
    "\n",
    "    خواندن داده: pd.read_csv()\n",
    "\n",
    "    بررسی: df.head(), df.info(), df.describe()\n",
    "\n",
    "    پاک‌سازی: dropna(), fillna(), تبدیل نوع\n",
    "\n",
    "    تحلیل: groupby(), فیلتر شرطی\n",
    "\n",
    "    خروجی: to_csv(), to_excel()"
   ]
  },
  {
   "cell_type": "code",
   "execution_count": 8,
   "metadata": {
    "slideshow": {
     "slide_type": "slide"
    }
   },
   "outputs": [
    {
     "name": "stdout",
     "output_type": "stream",
     "text": [
      "    Make       Model Vehicle Class  Engine Size(L)  Cylinders Transmission  \\\n",
      "0  ACURA         ILX       COMPACT             2.0          4          AS5   \n",
      "1  ACURA         ILX       COMPACT             2.4          4           M6   \n",
      "2  ACURA  ILX HYBRID       COMPACT             1.5          4          AV7   \n",
      "3  ACURA     MDX 4WD   SUV - SMALL             3.5          6          AS6   \n",
      "4  ACURA     RDX AWD   SUV - SMALL             3.5          6          AS6   \n",
      "\n",
      "  Fuel Type  CO2 Emissions(g/km)  \n",
      "0         Z                  196  \n",
      "1         Z                  221  \n",
      "2         Z                  136  \n",
      "3         Z                  255  \n",
      "4         Z                  244  \n"
     ]
    }
   ],
   "source": [
    "import pandas as pd\n",
    "df = pd.read_csv('CO2 Emissions_Canada.csv')             # خواندن فایل\n",
    "\n",
    "print(df.head())                         # چند ردیف اول\n"
   ]
  },
  {
   "cell_type": "code",
   "execution_count": 9,
   "metadata": {
    "slideshow": {
     "slide_type": "slide"
    }
   },
   "outputs": [
    {
     "name": "stdout",
     "output_type": "stream",
     "text": [
      "<class 'pandas.core.frame.DataFrame'>\n",
      "RangeIndex: 7385 entries, 0 to 7384\n",
      "Data columns (total 8 columns):\n",
      " #   Column               Non-Null Count  Dtype  \n",
      "---  ------               --------------  -----  \n",
      " 0   Make                 7385 non-null   object \n",
      " 1   Model                7385 non-null   object \n",
      " 2   Vehicle Class        7385 non-null   object \n",
      " 3   Engine Size(L)       7385 non-null   float64\n",
      " 4   Cylinders            7385 non-null   int64  \n",
      " 5   Transmission         7385 non-null   object \n",
      " 6   Fuel Type            7385 non-null   object \n",
      " 7   CO2 Emissions(g/km)  7385 non-null   int64  \n",
      "dtypes: float64(1), int64(2), object(5)\n",
      "memory usage: 461.7+ KB\n",
      "None\n"
     ]
    }
   ],
   "source": [
    "print(df.info())                         # اطلاعات ستون‌ها"
   ]
  },
  {
   "cell_type": "code",
   "execution_count": 10,
   "metadata": {
    "slideshow": {
     "slide_type": "slide"
    }
   },
   "outputs": [
    {
     "name": "stdout",
     "output_type": "stream",
     "text": [
      "       Engine Size(L)    Cylinders  CO2 Emissions(g/km)\n",
      "count     7385.000000  7385.000000          7385.000000\n",
      "mean         3.160068     5.615030           250.584699\n",
      "std          1.354170     1.828307            58.512679\n",
      "min          0.900000     3.000000            96.000000\n",
      "25%          2.000000     4.000000           208.000000\n",
      "50%          3.000000     6.000000           246.000000\n",
      "75%          3.700000     6.000000           288.000000\n",
      "max          8.400000    16.000000           522.000000\n"
     ]
    }
   ],
   "source": [
    "print(df.describe())                     # آمار توصیفی"
   ]
  },
  {
   "cell_type": "code",
   "execution_count": 14,
   "metadata": {
    "slideshow": {
     "slide_type": "slide"
    }
   },
   "outputs": [
    {
     "data": {
      "text/html": [
       "<div>\n",
       "<style scoped>\n",
       "    .dataframe tbody tr th:only-of-type {\n",
       "        vertical-align: middle;\n",
       "    }\n",
       "\n",
       "    .dataframe tbody tr th {\n",
       "        vertical-align: top;\n",
       "    }\n",
       "\n",
       "    .dataframe thead th {\n",
       "        text-align: right;\n",
       "    }\n",
       "</style>\n",
       "<table border=\"1\" class=\"dataframe\">\n",
       "  <thead>\n",
       "    <tr style=\"text-align: right;\">\n",
       "      <th></th>\n",
       "      <th>Name</th>\n",
       "      <th>Age</th>\n",
       "    </tr>\n",
       "  </thead>\n",
       "  <tbody>\n",
       "    <tr>\n",
       "      <th>0</th>\n",
       "      <td>Ali</td>\n",
       "      <td>23</td>\n",
       "    </tr>\n",
       "    <tr>\n",
       "      <th>1</th>\n",
       "      <td>Sara</td>\n",
       "      <td>29</td>\n",
       "    </tr>\n",
       "  </tbody>\n",
       "</table>\n",
       "</div>"
      ],
      "text/plain": [
       "   Name  Age\n",
       "0   Ali   23\n",
       "1  Sara   29"
      ]
     },
     "execution_count": 14,
     "metadata": {},
     "output_type": "execute_result"
    }
   ],
   "source": [
    "df = df.dropna()                         # حذف مقادیر گمشده\n",
    "\n",
    "data = {'Name': ['Ali','Sara'], 'Age': [23,29]}\n",
    "df1 = pd.DataFrame(data)\n",
    "df1.head()\n"
   ]
  },
  {
   "cell_type": "markdown",
   "metadata": {
    "slideshow": {
     "slide_type": "slide"
    }
   },
   "source": [
    "![py14](./images/py14.png)"
   ]
  },
  {
   "cell_type": "markdown",
   "metadata": {
    "slideshow": {
     "slide_type": "slide"
    }
   },
   "source": [
    " مراحل پایه:\n",
    "\n",
    "    import matplotlib.pyplot as plt\n",
    "\n",
    "    آماده‌سازی داده (لیست یا آرایه)\n",
    "\n",
    "    تعریف Figure و Axes (plt.subplots())\n",
    "\n",
    "    رسم نمودار (ax.plot(), ax.bar(), …)\n",
    "\n",
    "    افزودن عنوان (ax.set_title())، برچسب محورها (ax.set_xlabel(), ax.set_ylabel())\n",
    "\n",
    "    نمایش (plt.show()) یا ذخیره (fig.savefig())"
   ]
  },
  {
   "cell_type": "code",
   "execution_count": 16,
   "metadata": {
    "slideshow": {
     "slide_type": "slide"
    }
   },
   "outputs": [
    {
     "data": {
      "image/png": "[encoded data removed]",
      "text/plain": [
       "<Figure size 640x480 with 1 Axes>"
      ]
     },
     "metadata": {},
     "output_type": "display_data"
    }
   ],
   "source": [
    "import matplotlib.pyplot as plt\n",
    "import numpy as np\n",
    "\n",
    "# ۱. نمودار خطی ساده\n",
    "x = np.linspace(0, 10, 100)\n",
    "y = np.sin(x)\n",
    "fig, ax = plt.subplots()\n",
    "ax.plot(x, y, linestyle='-', marker='', linewidth=2)\n",
    "ax.set_xlabel('x')\n",
    "ax.set_ylabel('sin(x)')\n",
    "plt.show()"
   ]
  },
  {
   "cell_type": "code",
   "execution_count": 18,
   "metadata": {
    "slideshow": {
     "slide_type": "slide"
    }
   },
   "outputs": [
    {
     "data": {
      "image/png": "[encoded data removed]",
      "text/plain": [
       "<Figure size 640x480 with 1 Axes>"
      ]
     },
     "metadata": {},
     "output_type": "display_data"
    }
   ],
   "source": [
    "# ۲. نمودار پراکندگی (Scatter)\n",
    "x = np.random.rand(50)\n",
    "y = np.random.rand(50)\n",
    "fig, ax = plt.subplots()\n",
    "ax.scatter(x, y)\n",
    "plt.show()"
   ]
  },
  {
   "cell_type": "code",
   "execution_count": 19,
   "metadata": {
    "slideshow": {
     "slide_type": "slide"
    }
   },
   "outputs": [
    {
     "data": {
      "image/png": "[encoded data removed]",
      "text/plain": [
       "<Figure size 640x480 with 1 Axes>"
      ]
     },
     "metadata": {},
     "output_type": "display_data"
    }
   ],
   "source": [
    "# ۳. نمودار میله‌ای (Bar)\n",
    "categories = ['A', 'B', 'C', 'D']\n",
    "values = [23, 45, 12, 36]\n",
    "fig, ax = plt.subplots()\n",
    "ax.bar(categories, values)\n",
    "plt.show()"
   ]
  },
  {
   "cell_type": "code",
   "execution_count": 20,
   "metadata": {
    "slideshow": {
     "slide_type": "slide"
    }
   },
   "outputs": [
    {
     "data": {
      "image/png": "[encoded data removed]",
      "text/plain": [
       "<Figure size 640x480 with 1 Axes>"
      ]
     },
     "metadata": {},
     "output_type": "display_data"
    }
   ],
   "source": [
    "# ۴. هیستوگرام\n",
    "data = np.random.randn(1000)\n",
    "fig, ax = plt.subplots()\n",
    "ax.hist(data, bins=20)\n",
    "plt.show()"
   ]
  },
  {
   "cell_type": "code",
   "execution_count": 21,
   "metadata": {
    "slideshow": {
     "slide_type": "slide"
    }
   },
   "outputs": [
    {
     "data": {
      "image/png": "[encoded data removed]",
      "text/plain": [
       "<Figure size 800x400 with 2 Axes>"
      ]
     },
     "metadata": {},
     "output_type": "display_data"
    }
   ],
   "source": [
    "# ۵. چند نمودار در یک Figure\n",
    "fig, (ax1, ax2) = plt.subplots(1, 2, figsize=(8,4))\n",
    "ax1.plot(x, np.cos(x)); ax1.set_title('cos(x)')\n",
    "ax2.hist(data, bins=15);   ax2.set_title('Histogram')\n",
    "plt.tight_layout()\n",
    "plt.show()"
   ]
  }
 ],
 "metadata": {
  "celltoolbar": "Slideshow",
  "kernelspec": {
   "display_name": "Python 3 (ipykernel)",
   "language": "python",
   "name": "python3"
  },
  "language_info": {
   "codemirror_mode": {
    "name": "ipython",
    "version": 3
   },
   "file_extension": ".py",
   "mimetype": "text/x-python",
   "name": "python",
   "nbconvert_exporter": "python",
   "pygments_lexer": "ipython3",
   "version": "3.10.11"
  }
 },
 "nbformat": 4,
 "nbformat_minor": 2
}
